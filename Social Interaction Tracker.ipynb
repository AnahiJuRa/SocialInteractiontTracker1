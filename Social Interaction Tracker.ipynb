{
 "cells": [
  {
   "cell_type": "markdown",
   "id": "b33e97bb-8949-4d1f-b78b-08072a5329cd",
   "metadata": {},
   "source": [
    "# Seguimiento de Interacciones Sociales:\n",
    "\n",
    "### Este cuaderno está diseñado para ayudar a realizar un análisis cuantitativo y probabilístico de las interacciones sociales. Aquí registrarás datos sobre en este caso mis conversaciones, los analizarás y explorarás patrones utilizando herramientas matemáticas como la estadística descriptiva y modelos básicos de probabilidad.\n",
    "\n",
    "### Los invito que haya una retroalimentación para poder complementar la hipotesis.\n",
    "\n"
   ]
  },
  {
   "cell_type": "markdown",
   "id": "9671c429-a5b0-4f8e-bbc4-f59a5ca51f77",
   "metadata": {},
   "source": [
    "\n",
    "\n",
    "### El análisis de interacciones sociales puede ser un tema complejo, pero su estudio ofrece una oportunidad única para comprender patrones de comportamiento humano. Desde una perspectiva probabilística y estadística, este proceso implica identificar tendencias en los resultados de las interacciones, analizar su relación con factores contextuales y, finalmente, optimizar futuras interacciones. Este enfoque permite:\n",
    "\n",
    "### 1.Cuantificar el comportamiento humano: Las interacciones sociales son dinámicas, pero al estructurarlas en datos, podemos transformarlas en variables cuantificables.\n",
    "\n",
    "### 2. Identificar patrones: A través de herramientas como la estadística descriptiva y visualizaciones, podemos determinar qué factores llevan a interacciones positivas, neutras o incómodas.\n",
    "\n",
    "### 3.Aplicar probabilidad:Los modelos probabilísticos nos permiten predecir los resultados de futuras interacciones bajo ciertas condiciones.\n",
    "\n",
    "### 4.Optimizar interacciones: Con base en los resultados del análisis, podemos aplicar estrategias para mejorar nuestras habilidades sociales de manera científica.\n",
    "\n",
    "### Por ejemplo, calcular probabilidades nos brinda una comprensión más profunda de las dinámicas sociales y nos permite anticipar el impacto de diferentes enfoques en futuras interacciones. Este conocimiento es útil tanto para el desarrollo personal como para fomentar mejores relaciones interpersonales en entornos sociales y profesionales.\n",
    "\n",
    "### En resumen, este cuaderno no solo documenta tus experiencias sociales, sino que también emplea métodos matemáticos para ayudarte a crecer personalmente al entender mejor cómo te comunicas y cómo optimizar esas interacciones.\n",
    "\n"
   ]
  },
  {
   "cell_type": "markdown",
   "id": "d5d6cb2a-70ea-4e4b-ac0c-842074ffb16d",
   "metadata": {},
   "source": [
    "### Este analisis se realizará con las siguientes librerias en Python 3.12.2"
   ]
  },
  {
   "cell_type": "code",
   "execution_count": 25,
   "id": "56ade437-13a3-4cf9-9570-fe884698ffc8",
   "metadata": {},
   "outputs": [],
   "source": [
    "import pandas as pd\n",
    "import numpy as np\n",
    "from datetime import datetime\n",
    "import matplotlib.pyplot as plt\n",
    "import seaborn as sns\n",
    "\n",
    "# Archivo donde guardaremos los datos(EN MI CASO LO LLAME social_interactions)\n",
    "FILE_NAME = \"social_interactions.csv\"\n",
    "\n"
   ]
  },
  {
   "cell_type": "markdown",
   "id": "e1df1556-d4e1-4051-b765-a6d18ca965dc",
   "metadata": {},
   "source": [
    "\n",
    "#### En este bloque crearemos una función para registrar nuestras interacciones. Cada interacción contendrá las siguientes columnas:\n",
    "#### 1. Fecha: Fecha y hora de la interacción.\n",
    "#### 2. Tipo de Persona: Amigo, desconocido, interés romántico, etc.\n",
    "#### 3. Tema: Tema principal de la conversación.\n",
    "#### 4. Resultado: Positivo, neutro o incómodo.\n",
    "#### 5. Lección Aprendida: Reflexión breve sobre la interacción"
   ]
  },
  {
   "cell_type": "code",
   "execution_count": 30,
   "id": "71cbaaa4-30fe-4202-bb8f-87636acaf802",
   "metadata": {},
   "outputs": [
    {
     "name": "stdin",
     "output_type": "stream",
     "text": [
      "¿Con quién hablaste? (amigo, desconocido, interés romántico, etc.):  desconocido\n",
      "¿De qué hablaron?:  sobre las materias de la carrera\n",
      "¿Cómo fue el resultado? (positivo, neutro, incómodo):  positivo\n",
      "¿Qué aprendiste de esta interacción?:  Que hay muchos artistas en la facultad de física\n"
     ]
    },
    {
     "name": "stdout",
     "output_type": "stream",
     "text": [
      "\n",
      "Interacción registrada exitosamente!\n",
      "\n"
     ]
    }
   ],
   "source": [
    "\n",
    "def registrar_interaccion():\n",
    "    # Aquí me pediré datos \n",
    "    fecha = datetime.now().strftime(\"%Y-%m-%d %H:%M:%S\")\n",
    "    tipo_persona = input(\"¿Con quién hablaste? (amigo, desconocido, interés romántico, etc.): \")\n",
    "    tema = input(\"¿De qué hablaron?: \")\n",
    "    resultado = input(\"¿Cómo fue el resultado? (positivo, neutro, incómodo): \")\n",
    "    leccion = input(\"¿Qué aprendiste de esta interacción?: \")\n",
    "\n",
    "    # La creación de  un diccionario con los datos es: \n",
    "    interaccion = {\n",
    "        \"Fecha\": fecha,\n",
    "        \"Tipo de Persona\": tipo_persona,\n",
    "        \"Tema\": tema,\n",
    "        \"Resultado\": resultado,\n",
    "        \"Lección Aprendida\": leccion\n",
    "    }\n",
    "\n",
    "    # Aquí se guardaran los datos en el archivo: \n",
    "    try:\n",
    "        # Si el archivo existe, añadimos la nueva interacción\n",
    "        df = pd.read_csv(FILE_NAME)\n",
    "        df = df.append(interaccion, ignore_index=True)\n",
    "    except FileNotFoundError:\n",
    "        # Si no existe, creamos un nuevo archivo\n",
    "        df = pd.DataFrame([interaccion])\n",
    "\n",
    "    df.to_csv(FILE_NAME, index=False)\n",
    "    print(\"\\nInteracción registrada exitosamente!\\n\")\n",
    "\n",
    "registrar_interaccion()\n"
   ]
  },
  {
   "cell_type": "markdown",
   "id": "cf2f035d-519f-474a-af78-ba5ff663b01c",
   "metadata": {},
   "source": [
    "#### Ahora comenzaremos con un análisis descriptivo básico para identificar patrones:"
   ]
  },
  {
   "cell_type": "code",
   "execution_count": 33,
   "id": "058ead46-9cff-4592-95d9-be998f4abbea",
   "metadata": {},
   "outputs": [
    {
     "name": "stdout",
     "output_type": "stream",
     "text": [
      "\n",
      "--- Análisis de Interacciones ---\n",
      "Total de interacciones registradas: 1\n",
      "\n",
      "Resultados:\n",
      "Resultado\n",
      "positivo    1\n",
      "Name: count, dtype: int64\n",
      "\n",
      "Temas más hablados:\n",
      "Tema\n",
      "sobre las materias de la carrera    1\n",
      "Name: count, dtype: int64\n",
      "\n",
      "Tipos de personas con las que más hablas:\n",
      "Tipo de Persona\n",
      "desconocido    1\n",
      "Name: count, dtype: int64\n"
     ]
    }
   ],
   "source": [
    "def analizar_interacciones():\n",
    "    try:\n",
    "        # Cargar los datos\n",
    "        df = pd.read_csv(FILE_NAME)\n",
    "\n",
    "        print(\"\\n--- Análisis de Interacciones ---\")\n",
    "        # Total de interacciones\n",
    "        print(f\"Total de interacciones registradas: {len(df)}\")\n",
    "\n",
    "        # Conteo por resultado\n",
    "        print(\"\\nResultados:\")\n",
    "        print(df[\"Resultado\"].value_counts())\n",
    "\n",
    "        # Temas más frecuentes\n",
    "        print(\"\\nTemas más hablados:\")\n",
    "        print(df[\"Tema\"].value_counts().head(3))\n",
    "\n",
    "        # Tipos de personas con las que más hablas\n",
    "        print(\"\\nTipos de personas con las que más hablas:\")\n",
    "        print(df[\"Tipo de Persona\"].value_counts())\n",
    "\n",
    "    except FileNotFoundError:\n",
    "        print(\"\\nNo se encontraron interacciones registradas. Por favor, registra primero algunas interacciones.\\n\")\n",
    "\n",
    "analizar_interacciones()"
   ]
  },
  {
   "cell_type": "markdown",
   "id": "eaa34b1c-cd4a-469c-9551-3fed986a4bc0",
   "metadata": {},
   "source": [
    "\n",
    "\n",
    "#### El análisis probabilístico de interacciones sociales permite identificar patrones y predecir resultados futuros con base en datos históricos. A continuación, se describe matemáticamente cómo se calculan las probabilidades en este contexto, así como su implementación en Python.\n",
    "\n",
    "## Cálculo de Probabilidades\n",
    "\n",
    "###  Probabilidad Básica\n",
    "\n",
    "Dada una base de datos de interacciones sociales, podemos calcular la probabilidad de que una interacción tenga un resultado positivo ($P(\\text{Positivo})$). Matemáticamente, se define como:\n",
    "\n",
    "$\n",
    "P(\\text{Positivo}) = \\frac{\\text{Número de interacciones positivas}}{\\text{Total de interacciones}}\n",
    "$\n",
    "\n",
    "En Python, esto se implementa como:\n",
    "\n",
    "```python\n",
    "p_positivo = len(df[df[\"Resultado\"] == \"positivo\"]) / len(df)"
   ]
  },
  {
   "cell_type": "markdown",
   "id": "d226c93e-d3ea-4a30-bde6-615503b13f7b",
   "metadata": {},
   "source": [
    "#### Usaremos gráficos para entender mejor nuestros datos. Por ejemplo, un gráfico de barras para visualizar los resultados:\n"
   ]
  },
  {
   "cell_type": "code",
   "execution_count": 41,
   "id": "60c00739-5005-429b-857a-6b01fa396ae2",
   "metadata": {},
   "outputs": [
    {
     "name": "stderr",
     "output_type": "stream",
     "text": [
      "C:\\Users\\anahi\\AppData\\Local\\Temp\\ipykernel_12968\\87996337.py:6: FutureWarning: \n",
      "\n",
      "Passing `palette` without assigning `hue` is deprecated and will be removed in v0.14.0. Assign the `x` variable to `hue` and set `legend=False` for the same effect.\n",
      "\n",
      "  sns.countplot(data=df, x=\"Resultado\", palette=\"viridis\")\n"
     ]
    },
    {
     "data": {
      "image/png": "[encoded data removed]",
      "text/plain": [
       "<Figure size 640x480 with 1 Axes>"
      ]
     },
     "metadata": {},
     "output_type": "display_data"
    },
    {
     "data": {
      "image/png": "[encoded data removed]",
      "text/plain": [
       "<Figure size 640x480 with 1 Axes>"
      ]
     },
     "metadata": {},
     "output_type": "display_data"
    }
   ],
   "source": [
    "def visualizar_datos():\n",
    "    try:\n",
    "        df = pd.read_csv(FILE_NAME)\n",
    "\n",
    "        # Gráfico de barras para los resultados\n",
    "        sns.countplot(data=df, x=\"Resultado\", palette=\"viridis\")\n",
    "        plt.title(\"Distribución de Resultados de las Interacciones\")\n",
    "        plt.show()\n",
    "\n",
    "        # Gráfico circular para los tipos de personas\n",
    "        df[\"Tipo de Persona\"].value_counts().plot.pie(autopct=\"%1.1f%%\", startangle=90, cmap=\"Pastel1\")\n",
    "        plt.title(r\"Tipos de Personas con las que más interacts interact\\u00fvas\")\n",
    "        plt.ylabel(\"\")\n",
    "        plt.show()\n",
    "\n",
    "    except FileNotFoundError:\n",
    "        print(\"\\nNo se encontraron interacciones registradas para visualizar.\\n\")\n",
    "\n",
    "visualizar_datos()"
   ]
  },
  {
   "cell_type": "markdown",
   "id": "a59e938f-6b7f-406c-8e50-cd350417999f",
   "metadata": {},
   "source": [
    "El análisis probabilístico puede ofrecer valiosos “insights” sobre patrones en las interacciones sociales, permitiendo predecir y mejorar futuras relaciones. A continuación, describimos su aplicación:\n",
    "\n",
    "- **P(Resultado Positivo)**: Probabilidad de que una interacción sea positiva. Esto se calcula como:\n",
    "  \\[\n",
    "  P(\\text{Positivo}) = \\frac{\\text{Interacciones positivas}}{\\text{Total de interacciones}}\n",
    "  \\]\n",
    "- **P(Tipo de Persona = Amigo | Resultado = Positivo)**: Probabilidad condicional de que el resultado sea positivo al hablar con un amigo:\n",
    "  \\[\n",
    "  P(\\text{Amigo | Positivo}) = \\frac{P(\\text{Amigo}\n"
   ]
  },
  {
   "cell_type": "code",
   "execution_count": null,
   "id": "72e86e2e-4458-4dfb-8dda-0181fbbbb998",
   "metadata": {},
   "outputs": [],
   "source": []
  }
 ],
 "metadata": {
  "kernelspec": {
   "display_name": "Python [conda env:base]",
   "language": "python",
   "name": "conda-base-py"
  },
  "language_info": {
   "codemirror_mode": {
    "name": "ipython",
    "version": 3
   },
   "file_extension": ".py",
   "mimetype": "text/x-python",
   "name": "python",
   "nbconvert_exporter": "python",
   "pygments_lexer": "ipython3",
   "version": "3.12.4"
  }
 },
 "nbformat": 4,
 "nbformat_minor": 5
}
